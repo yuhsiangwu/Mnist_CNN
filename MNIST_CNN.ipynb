{
  "nbformat": 4,
  "nbformat_minor": 0,
  "metadata": {
    "colab": {
      "name": "MNIST_CNN",
      "provenance": [],
      "collapsed_sections": [
        "6H57ojlacmfF"
      ]
    },
    "kernelspec": {
      "name": "python3",
      "display_name": "Python 3"
    },
    "accelerator": "GPU",
    "widgets": {
      "application/vnd.jupyter.widget-state+json": {
        "2491c1badfd7461db312a831a2fb8d22": {
          "model_module": "@jupyter-widgets/controls",
          "model_name": "VBoxModel",
          "state": {
            "_view_name": "VBoxView",
            "_dom_classes": [
              "widget-interact"
            ],
            "_model_name": "VBoxModel",
            "_view_module": "@jupyter-widgets/controls",
            "_model_module_version": "1.5.0",
            "_view_count": null,
            "_view_module_version": "1.5.0",
            "box_style": "",
            "layout": "IPY_MODEL_b9a75a9c5764461ab7b51a13a04f2b8c",
            "_model_module": "@jupyter-widgets/controls",
            "children": [
              "IPY_MODEL_62f8f0a028ff43a89a14d37ee1b1e096",
              "IPY_MODEL_8fb207b8a85f4578be4e5abc59b72525"
            ]
          },
          "model_module_version": "1.5.0"
        },
        "b9a75a9c5764461ab7b51a13a04f2b8c": {
          "model_module": "@jupyter-widgets/base",
          "model_name": "LayoutModel",
          "state": {
            "_view_name": "LayoutView",
            "grid_template_rows": null,
            "right": null,
            "justify_content": null,
            "_view_module": "@jupyter-widgets/base",
            "overflow": null,
            "_model_module_version": "1.2.0",
            "_view_count": null,
            "flex_flow": null,
            "width": null,
            "min_width": null,
            "border": null,
            "align_items": null,
            "bottom": null,
            "_model_module": "@jupyter-widgets/base",
            "top": null,
            "grid_column": null,
            "overflow_y": null,
            "overflow_x": null,
            "grid_auto_flow": null,
            "grid_area": null,
            "grid_template_columns": null,
            "flex": null,
            "_model_name": "LayoutModel",
            "justify_items": null,
            "grid_row": null,
            "max_height": null,
            "align_content": null,
            "visibility": null,
            "align_self": null,
            "height": null,
            "min_height": null,
            "padding": null,
            "grid_auto_rows": null,
            "grid_gap": null,
            "max_width": null,
            "order": null,
            "_view_module_version": "1.2.0",
            "grid_template_areas": null,
            "object_position": null,
            "object_fit": null,
            "grid_auto_columns": null,
            "margin": null,
            "display": null,
            "left": null
          },
          "model_module_version": "1.2.0"
        },
        "62f8f0a028ff43a89a14d37ee1b1e096": {
          "model_module": "@jupyter-widgets/controls",
          "model_name": "BoundedIntTextModel",
          "state": {
            "_view_name": "IntTextView",
            "style": "IPY_MODEL_4f6b039b881441e4ba0f3ba342b85d05",
            "_dom_classes": [],
            "description": "idx",
            "_model_name": "BoundedIntTextModel",
            "max": 9999,
            "_view_module": "@jupyter-widgets/controls",
            "_model_module_version": "1.5.0",
            "value": 0,
            "_view_count": null,
            "disabled": false,
            "_view_module_version": "1.5.0",
            "min": 0,
            "continuous_update": false,
            "step": 1,
            "description_tooltip": null,
            "_model_module": "@jupyter-widgets/controls",
            "layout": "IPY_MODEL_9925bd73b9fc482f86aa76315cd4a6c4"
          },
          "model_module_version": "1.5.0"
        },
        "8fb207b8a85f4578be4e5abc59b72525": {
          "model_module": "@jupyter-widgets/output",
          "model_name": "OutputModel",
          "state": {
            "_view_name": "OutputView",
            "msg_id": "",
            "_dom_classes": [],
            "_model_name": "OutputModel",
            "outputs": [
              {
                "output_type": "stream",
                "metadata": {
                  "tags": []
                },
                "text": "預測正確!\n",
                "stream": "stdout"
              },
              {
                "output_type": "display_data",
                "metadata": {
                  "tags": [],
                  "needs_background": "light"
                },
                "image/png": "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\n",
                "text/plain": "<Figure size 720x360 with 2 Axes>"
              }
            ],
            "_view_module": "@jupyter-widgets/output",
            "_model_module_version": "1.0.0",
            "_view_count": null,
            "_view_module_version": "1.0.0",
            "layout": "IPY_MODEL_04bfb9d42a5f452ab2a64a9add55f8b0",
            "_model_module": "@jupyter-widgets/output"
          },
          "model_module_version": "1.0.0"
        },
        "4f6b039b881441e4ba0f3ba342b85d05": {
          "model_module": "@jupyter-widgets/controls",
          "model_name": "DescriptionStyleModel",
          "state": {
            "_view_name": "StyleView",
            "_model_name": "DescriptionStyleModel",
            "description_width": "",
            "_view_module": "@jupyter-widgets/base",
            "_model_module_version": "1.5.0",
            "_view_count": null,
            "_view_module_version": "1.2.0",
            "_model_module": "@jupyter-widgets/controls"
          },
          "model_module_version": "1.5.0"
        },
        "9925bd73b9fc482f86aa76315cd4a6c4": {
          "model_module": "@jupyter-widgets/base",
          "model_name": "LayoutModel",
          "state": {
            "_view_name": "LayoutView",
            "grid_template_rows": null,
            "right": null,
            "justify_content": null,
            "_view_module": "@jupyter-widgets/base",
            "overflow": null,
            "_model_module_version": "1.2.0",
            "_view_count": null,
            "flex_flow": null,
            "width": null,
            "min_width": null,
            "border": null,
            "align_items": null,
            "bottom": null,
            "_model_module": "@jupyter-widgets/base",
            "top": null,
            "grid_column": null,
            "overflow_y": null,
            "overflow_x": null,
            "grid_auto_flow": null,
            "grid_area": null,
            "grid_template_columns": null,
            "flex": null,
            "_model_name": "LayoutModel",
            "justify_items": null,
            "grid_row": null,
            "max_height": null,
            "align_content": null,
            "visibility": null,
            "align_self": null,
            "height": null,
            "min_height": null,
            "padding": null,
            "grid_auto_rows": null,
            "grid_gap": null,
            "max_width": null,
            "order": null,
            "_view_module_version": "1.2.0",
            "grid_template_areas": null,
            "object_position": null,
            "object_fit": null,
            "grid_auto_columns": null,
            "margin": null,
            "display": null,
            "left": null
          },
          "model_module_version": "1.2.0"
        },
        "04bfb9d42a5f452ab2a64a9add55f8b0": {
          "model_module": "@jupyter-widgets/base",
          "model_name": "LayoutModel",
          "state": {
            "_view_name": "LayoutView",
            "grid_template_rows": null,
            "right": null,
            "justify_content": null,
            "_view_module": "@jupyter-widgets/base",
            "overflow": null,
            "_model_module_version": "1.2.0",
            "_view_count": null,
            "flex_flow": null,
            "width": null,
            "min_width": null,
            "border": null,
            "align_items": null,
            "bottom": null,
            "_model_module": "@jupyter-widgets/base",
            "top": null,
            "grid_column": null,
            "overflow_y": null,
            "overflow_x": null,
            "grid_auto_flow": null,
            "grid_area": null,
            "grid_template_columns": null,
            "flex": null,
            "_model_name": "LayoutModel",
            "justify_items": null,
            "grid_row": null,
            "max_height": null,
            "align_content": null,
            "visibility": null,
            "align_self": null,
            "height": null,
            "min_height": null,
            "padding": null,
            "grid_auto_rows": null,
            "grid_gap": null,
            "max_width": null,
            "order": null,
            "_view_module_version": "1.2.0",
            "grid_template_areas": null,
            "object_position": null,
            "object_fit": null,
            "grid_auto_columns": null,
            "margin": null,
            "display": null,
            "left": null
          },
          "model_module_version": "1.2.0"
        }
      }
    }
  },
  "cells": [
    {
      "cell_type": "code",
      "metadata": {
        "id": "PXNUanZvcwwZ"
      },
      "source": [
        "%tensorflow_version 2.x"
      ],
      "execution_count": null,
      "outputs": []
    },
    {
      "cell_type": "code",
      "metadata": {
        "id": "tS5xFeQwe9Xu"
      },
      "source": [
        "%matplotlib inline\n",
        "# Import some useful packages\n",
        "import matplotlib.pyplot as plt\n",
        "import numpy as np\n",
        "import pandas as pd\n",
        "from ipywidgets import interact, IntSlider, BoundedIntText\n",
        "\n",
        "# Layers for FNN\n",
        "from tensorflow.keras.models import Sequential\n",
        "from tensorflow.keras.layers import Dense\n",
        "from tensorflow.keras.layers import Flatten\n",
        "\n",
        "# Layers for CNN\n",
        "from tensorflow.keras.layers import Conv2D, MaxPool2D\n",
        "\n",
        "# For data preprocessing\n",
        "from tensorflow.keras import datasets\n",
        "from tensorflow.keras.utils import to_categorical"
      ],
      "execution_count": null,
      "outputs": []
    },
    {
      "cell_type": "code",
      "metadata": {
        "id": "ITug7sp2TAr5",
        "colab": {
          "base_uri": "https://localhost:8080/"
        },
        "outputId": "9508b71b-c848-44c8-98e7-64e4913f4d5b"
      },
      "source": [
        "(X_train, y_train), (X_test, y_test) = datasets.mnist.load_data()"
      ],
      "execution_count": null,
      "outputs": [
        {
          "output_type": "stream",
          "text": [
            "Downloading data from https://storage.googleapis.com/tensorflow/tf-keras-datasets/mnist.npz\n",
            "11493376/11490434 [==============================] - 0s 0us/step\n"
          ],
          "name": "stdout"
        }
      ]
    },
    {
      "cell_type": "code",
      "metadata": {
        "id": "IsA_Z40jayyH"
      },
      "source": [
        "# Reshape size of each image from (28, 28) to (28, 28, 1)\n",
        "X_train = X_train.reshape(-1, 28, 28, 1)\n",
        "X_test = X_test.reshape(-1, 28, 28, 1)"
      ],
      "execution_count": null,
      "outputs": []
    },
    {
      "cell_type": "code",
      "metadata": {
        "id": "4srVd7RaTFO1"
      },
      "source": [
        "# Normalize data range\n",
        "X_train = X_train / X_train.max()\n",
        "X_test = X_test / X_test.max()"
      ],
      "execution_count": null,
      "outputs": []
    },
    {
      "cell_type": "code",
      "metadata": {
        "id": "JQ08yH4ZTRyu"
      },
      "source": [
        "# One hot encoding image labels\n",
        "y_train = to_categorical(y_train, 10)\n",
        "y_test = to_categorical(y_test, 10)"
      ],
      "execution_count": null,
      "outputs": []
    },
    {
      "cell_type": "code",
      "metadata": {
        "id": "jGEAVln9TRwa"
      },
      "source": [
        "model = Sequential()"
      ],
      "execution_count": null,
      "outputs": []
    },
    {
      "cell_type": "code",
      "metadata": {
        "id": "MQJxMVioTRtR"
      },
      "source": [
        "model.add(Conv2D(filters=6, kernel_size=(3, 3), input_shape=(28, 28, 1), activation='relu')) # no padding"
      ],
      "execution_count": null,
      "outputs": []
    },
    {
      "cell_type": "code",
      "metadata": {
        "id": "oK0z_MmJZoxy"
      },
      "source": [
        "model.add(MaxPool2D()) # pool_size=(2, 2)"
      ],
      "execution_count": null,
      "outputs": []
    },
    {
      "cell_type": "code",
      "metadata": {
        "id": "S_CGTjI957vl",
        "colab": {
          "base_uri": "https://localhost:8080/"
        },
        "outputId": "7471d944-8a69-4ed2-e58e-ad2ed430ba42"
      },
      "source": [
        "model.summary()"
      ],
      "execution_count": null,
      "outputs": [
        {
          "output_type": "stream",
          "text": [
            "Model: \"sequential\"\n",
            "_________________________________________________________________\n",
            "Layer (type)                 Output Shape              Param #   \n",
            "=================================================================\n",
            "conv2d (Conv2D)              (None, 26, 26, 6)         60        \n",
            "_________________________________________________________________\n",
            "max_pooling2d (MaxPooling2D) (None, 13, 13, 6)         0         \n",
            "=================================================================\n",
            "Total params: 60\n",
            "Trainable params: 60\n",
            "Non-trainable params: 0\n",
            "_________________________________________________________________\n"
          ],
          "name": "stdout"
        }
      ]
    },
    {
      "cell_type": "code",
      "metadata": {
        "id": "f5cq0uhpTRq0"
      },
      "source": [
        "model.add(Conv2D(16, (3, 3), activation='relu'))  # no padding\n",
        "model.add(MaxPool2D()) # pool_size=(2, 2)"
      ],
      "execution_count": null,
      "outputs": []
    },
    {
      "cell_type": "code",
      "metadata": {
        "id": "BsUdQE0OTRoc"
      },
      "source": [
        "model.add(Flatten())"
      ],
      "execution_count": null,
      "outputs": []
    },
    {
      "cell_type": "code",
      "metadata": {
        "id": "floU0of05vJj",
        "colab": {
          "base_uri": "https://localhost:8080/"
        },
        "outputId": "1a37ddef-ec25-4c5f-9c44-8c38b0c2fe99"
      },
      "source": [
        "model.summary()"
      ],
      "execution_count": null,
      "outputs": [
        {
          "output_type": "stream",
          "text": [
            "Model: \"sequential\"\n",
            "_________________________________________________________________\n",
            "Layer (type)                 Output Shape              Param #   \n",
            "=================================================================\n",
            "conv2d (Conv2D)              (None, 26, 26, 6)         60        \n",
            "_________________________________________________________________\n",
            "max_pooling2d (MaxPooling2D) (None, 13, 13, 6)         0         \n",
            "_________________________________________________________________\n",
            "conv2d_1 (Conv2D)            (None, 11, 11, 16)        880       \n",
            "_________________________________________________________________\n",
            "max_pooling2d_1 (MaxPooling2 (None, 5, 5, 16)          0         \n",
            "_________________________________________________________________\n",
            "flatten (Flatten)            (None, 400)               0         \n",
            "=================================================================\n",
            "Total params: 940\n",
            "Trainable params: 940\n",
            "Non-trainable params: 0\n",
            "_________________________________________________________________\n"
          ],
          "name": "stdout"
        }
      ]
    },
    {
      "cell_type": "markdown",
      "metadata": {
        "id": "6H57ojlacmfF"
      },
      "source": [
        "### [全連接層]"
      ]
    },
    {
      "cell_type": "code",
      "metadata": {
        "id": "effbGcnzTRmD"
      },
      "source": [
        "model.add(Dense(units=120, activation='relu'))"
      ],
      "execution_count": null,
      "outputs": []
    },
    {
      "cell_type": "code",
      "metadata": {
        "id": "GLfRYOZXTRhc"
      },
      "source": [
        "model.add(Dense(units=84, activation='relu'))"
      ],
      "execution_count": null,
      "outputs": []
    },
    {
      "cell_type": "markdown",
      "metadata": {
        "id": "UCEziMgMZYx7"
      },
      "source": [
        "#### 輸出層\n",
        "- 神經元個數: 10\n",
        "- 激活函數: softmax\n"
      ]
    },
    {
      "cell_type": "code",
      "metadata": {
        "id": "j-hs49RnTReM"
      },
      "source": [
        "model.add(Dense(units=10, activation='softmax'))"
      ],
      "execution_count": null,
      "outputs": []
    },
    {
      "cell_type": "markdown",
      "metadata": {
        "id": "GWdFSj9OcYWl"
      },
      "source": [
        "### 編譯模型: 設定模型訓練時的設定\n",
        "\n",
        "- Optimizer: Stochastic Gradient Descent (SGD)\n",
        "- Loss: categorical cross-entropy "
      ]
    },
    {
      "cell_type": "code",
      "metadata": {
        "id": "86fvl2DHcKwj"
      },
      "source": [
        "model.compile(loss='categorical_crossentropy', \n",
        "              optimizer='SGD', \n",
        "              metrics=['categorical_accuracy'])"
      ],
      "execution_count": null,
      "outputs": []
    },
    {
      "cell_type": "code",
      "metadata": {
        "id": "CfRSwesrcKuD",
        "colab": {
          "base_uri": "https://localhost:8080/"
        },
        "outputId": "dc8ddce1-56b0-4708-df7d-180a43731fbb"
      },
      "source": [
        "model.summary()"
      ],
      "execution_count": null,
      "outputs": [
        {
          "output_type": "stream",
          "text": [
            "Model: \"sequential\"\n",
            "_________________________________________________________________\n",
            "Layer (type)                 Output Shape              Param #   \n",
            "=================================================================\n",
            "conv2d (Conv2D)              (None, 26, 26, 6)         60        \n",
            "_________________________________________________________________\n",
            "max_pooling2d (MaxPooling2D) (None, 13, 13, 6)         0         \n",
            "_________________________________________________________________\n",
            "conv2d_1 (Conv2D)            (None, 11, 11, 16)        880       \n",
            "_________________________________________________________________\n",
            "max_pooling2d_1 (MaxPooling2 (None, 5, 5, 16)          0         \n",
            "_________________________________________________________________\n",
            "flatten (Flatten)            (None, 400)               0         \n",
            "_________________________________________________________________\n",
            "dense (Dense)                (None, 120)               48120     \n",
            "_________________________________________________________________\n",
            "dense_1 (Dense)              (None, 84)                10164     \n",
            "_________________________________________________________________\n",
            "dense_2 (Dense)              (None, 10)                850       \n",
            "=================================================================\n",
            "Total params: 60,074\n",
            "Trainable params: 60,074\n",
            "Non-trainable params: 0\n",
            "_________________________________________________________________\n"
          ],
          "name": "stdout"
        }
      ]
    },
    {
      "cell_type": "markdown",
      "metadata": {
        "id": "-Zz5yHOzdUgv"
      },
      "source": [
        "### 訓練模型: 透過訓練模型來學習分類資料的函數"
      ]
    },
    {
      "cell_type": "code",
      "metadata": {
        "id": "LVdaaVOJcKrk",
        "colab": {
          "base_uri": "https://localhost:8080/"
        },
        "outputId": "e8e9cb53-4818-4170-f0fc-3fe006497253"
      },
      "source": [
        "training_history = model.fit(X_train, y_train, \n",
        "                             batch_size=32, \n",
        "                             epochs=5,  \n",
        "                             validation_data=(X_test, y_test))"
      ],
      "execution_count": null,
      "outputs": [
        {
          "output_type": "stream",
          "text": [
            "Epoch 1/5\n",
            "1875/1875 [==============================] - 38s 3ms/step - loss: 0.7952 - categorical_accuracy: 0.7507 - val_loss: 0.2182 - val_categorical_accuracy: 0.9279\n",
            "Epoch 2/5\n",
            "1875/1875 [==============================] - 6s 3ms/step - loss: 0.1690 - categorical_accuracy: 0.9480 - val_loss: 0.1406 - val_categorical_accuracy: 0.9587\n",
            "Epoch 3/5\n",
            "1875/1875 [==============================] - 6s 3ms/step - loss: 0.1156 - categorical_accuracy: 0.9644 - val_loss: 0.0929 - val_categorical_accuracy: 0.9714\n",
            "Epoch 4/5\n",
            "1875/1875 [==============================] - 6s 3ms/step - loss: 0.0937 - categorical_accuracy: 0.9709 - val_loss: 0.0865 - val_categorical_accuracy: 0.9716\n",
            "Epoch 5/5\n",
            "1875/1875 [==============================] - 6s 3ms/step - loss: 0.0794 - categorical_accuracy: 0.9747 - val_loss: 0.0649 - val_categorical_accuracy: 0.9792\n"
          ],
          "name": "stdout"
        }
      ]
    },
    {
      "cell_type": "markdown",
      "metadata": {
        "id": "0G7lUOLHQEjr"
      },
      "source": [
        "### 訓練過程的評估"
      ]
    },
    {
      "cell_type": "code",
      "metadata": {
        "id": "14YYzYYwcKpE",
        "colab": {
          "base_uri": "https://localhost:8080/",
          "height": 336
        },
        "outputId": "99456674-fe75-4f69-c5bc-492d69d0b65e"
      },
      "source": [
        "plt.figure(figsize=(10, 5))\n",
        "plt.subplot(1, 2, 1)\n",
        "plt.plot(training_history.history['loss'])\n",
        "plt.plot(training_history.history['val_loss'])\n",
        "plt.legend(['Train', 'Validation'])\n",
        "plt.title(\"Loss\")\n",
        "\n",
        "plt.subplot(1, 2, 2)\n",
        "plt.plot(training_history.history['categorical_accuracy'])\n",
        "plt.plot(training_history.history['val_categorical_accuracy'])\n",
        "plt.legend(['Train', 'Validation'])\n",
        "plt.title(\"Accuracy\");"
      ],
      "execution_count": null,
      "outputs": [
        {
          "output_type": "display_data",
          "data": {
            "image/png": "[encoded data removed]",
            "text/plain": [
              "<Figure size 720x360 with 2 Axes>"
            ]
          },
          "metadata": {
            "tags": [],
            "needs_background": "light"
          }
        }
      ]
    },
    {
      "cell_type": "code",
      "metadata": {
        "id": "Tb2cXnaV8FHy",
        "colab": {
          "base_uri": "https://localhost:8080/"
        },
        "outputId": "58698869-bf67-4791-b44c-42b313e378fc"
      },
      "source": [
        "# prediction result on testing data\n",
        "test_loss, test_accuracy = model.evaluate(X_test, y_test)\n",
        "print(\"測試資料 loss: %f\" %test_loss)\n",
        "print(\"測試資料準確率: %f\" %test_accuracy)"
      ],
      "execution_count": null,
      "outputs": [
        {
          "output_type": "stream",
          "text": [
            "313/313 [==============================] - 1s 2ms/step - loss: 0.0649 - categorical_accuracy: 0.9792\n",
            "測試資料 loss: 0.064878\n",
            "測試資料準確率: 0.979200\n"
          ],
          "name": "stdout"
        }
      ]
    },
    {
      "cell_type": "markdown",
      "metadata": {
        "id": "W5Vf7bbrQIQc"
      },
      "source": [
        "## 5: 視覺化預測結果\n",
        "\n",
        "在這部分，我們提供簡單的視覺化方法來呈現神經網路的輸入與輸出結果"
      ]
    },
    {
      "cell_type": "code",
      "metadata": {
        "id": "gsxkNdrn8Foq"
      },
      "source": [
        "def visulization(idx=0):\n",
        "    # Random pick one data from training set\n",
        "    # idx = np.random.randint(X_train.shape[0])\n",
        "    sample_x = X_test[idx]\n",
        "    sample_y = y_test[idx]\n",
        "    # Predict the class of random data\n",
        "    predict_y = model.predict(X_test[idx:idx+1]).squeeze()\n",
        "    predict_label = predict_y.argmax()\n",
        "\n",
        "    fig, (ax1, ax2) = plt.subplots(1, 2, figsize=(10, 5))\n",
        "    # Plot raw image\n",
        "    ax1.imshow(sample_x[:, :, 0], 'gray_r')\n",
        "    ax1.set_title(\"Image Label: %d\" %sample_y.argmax())\n",
        "\n",
        "    # Plot prediction probability of each classes\n",
        "    ax2.barh(np.arange(10), predict_y)\n",
        "    ax2.patches[predict_label].set_facecolor('Red')\n",
        "    ax2.set_title(\"Prediction Result: %d\" %predict_label);\n",
        "    if sample_y.argmax()==predict_y.argmax():\n",
        "        print(\"預測正確!\")\n",
        "    else:\n",
        "        print(\"預測失敗QQ\")"
      ],
      "execution_count": null,
      "outputs": []
    },
    {
      "cell_type": "code",
      "metadata": {
        "id": "iacX9kxd8Tcg",
        "colab": {
          "base_uri": "https://localhost:8080/",
          "height": 385,
          "referenced_widgets": [
            "2491c1badfd7461db312a831a2fb8d22",
            "b9a75a9c5764461ab7b51a13a04f2b8c",
            "62f8f0a028ff43a89a14d37ee1b1e096",
            "8fb207b8a85f4578be4e5abc59b72525",
            "4f6b039b881441e4ba0f3ba342b85d05",
            "9925bd73b9fc482f86aa76315cd4a6c4",
            "04bfb9d42a5f452ab2a64a9add55f8b0"
          ]
        },
        "outputId": "22866c8e-adb0-4f15-8e66-7a027c0039e6"
      },
      "source": [
        "interact(visulization, idx=BoundedIntText(value=0, min=0, max=X_test.shape[0]-1));"
      ],
      "execution_count": null,
      "outputs": [
        {
          "output_type": "display_data",
          "data": {
            "application/vnd.jupyter.widget-view+json": {
              "model_id": "2491c1badfd7461db312a831a2fb8d22",
              "version_minor": 0,
              "version_major": 2
            },
            "text/plain": [
              "interactive(children=(BoundedIntText(value=0, description='idx', max=9999), Output()), _dom_classes=('widget-i…"
            ]
          },
          "metadata": {
            "tags": []
          }
        }
      ]
    },
    {
      "cell_type": "code",
      "metadata": {
        "id": "CaFv5h8x9Rqf",
        "colab": {
          "base_uri": "https://localhost:8080/",
          "height": 418
        },
        "outputId": "2f930133-48ac-43f4-c5a6-88eb4ccd0e28"
      },
      "source": [
        "predictions=model.predict(X_test)\n",
        "predictions=np.argmax(predictions,axis=1)\n",
        "\n",
        "df=pd.DataFrame()\n",
        "df['Id']=[str(i) for i in range(len(X_test))]\n",
        "df['Category']=predictions\n",
        "df.to_csv('result.csv',index=None)\n",
        "df"
      ],
      "execution_count": null,
      "outputs": [
        {
          "output_type": "execute_result",
          "data": {
            "text/html": [
              "<div>\n",
              "<style scoped>\n",
              "    .dataframe tbody tr th:only-of-type {\n",
              "        vertical-align: middle;\n",
              "    }\n",
              "\n",
              "    .dataframe tbody tr th {\n",
              "        vertical-align: top;\n",
              "    }\n",
              "\n",
              "    .dataframe thead th {\n",
              "        text-align: right;\n",
              "    }\n",
              "</style>\n",
              "<table border=\"1\" class=\"dataframe\">\n",
              "  <thead>\n",
              "    <tr style=\"text-align: right;\">\n",
              "      <th></th>\n",
              "      <th>Id</th>\n",
              "      <th>Category</th>\n",
              "    </tr>\n",
              "  </thead>\n",
              "  <tbody>\n",
              "    <tr>\n",
              "      <th>0</th>\n",
              "      <td>0</td>\n",
              "      <td>7</td>\n",
              "    </tr>\n",
              "    <tr>\n",
              "      <th>1</th>\n",
              "      <td>1</td>\n",
              "      <td>2</td>\n",
              "    </tr>\n",
              "    <tr>\n",
              "      <th>2</th>\n",
              "      <td>2</td>\n",
              "      <td>1</td>\n",
              "    </tr>\n",
              "    <tr>\n",
              "      <th>3</th>\n",
              "      <td>3</td>\n",
              "      <td>0</td>\n",
              "    </tr>\n",
              "    <tr>\n",
              "      <th>4</th>\n",
              "      <td>4</td>\n",
              "      <td>4</td>\n",
              "    </tr>\n",
              "    <tr>\n",
              "      <th>...</th>\n",
              "      <td>...</td>\n",
              "      <td>...</td>\n",
              "    </tr>\n",
              "    <tr>\n",
              "      <th>9995</th>\n",
              "      <td>9995</td>\n",
              "      <td>2</td>\n",
              "    </tr>\n",
              "    <tr>\n",
              "      <th>9996</th>\n",
              "      <td>9996</td>\n",
              "      <td>3</td>\n",
              "    </tr>\n",
              "    <tr>\n",
              "      <th>9997</th>\n",
              "      <td>9997</td>\n",
              "      <td>4</td>\n",
              "    </tr>\n",
              "    <tr>\n",
              "      <th>9998</th>\n",
              "      <td>9998</td>\n",
              "      <td>5</td>\n",
              "    </tr>\n",
              "    <tr>\n",
              "      <th>9999</th>\n",
              "      <td>9999</td>\n",
              "      <td>6</td>\n",
              "    </tr>\n",
              "  </tbody>\n",
              "</table>\n",
              "<p>10000 rows × 2 columns</p>\n",
              "</div>"
            ],
            "text/plain": [
              "        Id  Category\n",
              "0        0         7\n",
              "1        1         2\n",
              "2        2         1\n",
              "3        3         0\n",
              "4        4         4\n",
              "...    ...       ...\n",
              "9995  9995         2\n",
              "9996  9996         3\n",
              "9997  9997         4\n",
              "9998  9998         5\n",
              "9999  9999         6\n",
              "\n",
              "[10000 rows x 2 columns]"
            ]
          },
          "metadata": {
            "tags": []
          },
          "execution_count": 27
        }
      ]
    }
  ]
}